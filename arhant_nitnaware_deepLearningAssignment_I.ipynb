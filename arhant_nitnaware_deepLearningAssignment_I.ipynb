{
  "nbformat": 4,
  "nbformat_minor": 0,
  "metadata": {
    "colab": {
      "provenance": []
    },
    "kernelspec": {
      "name": "python3",
      "display_name": "Python 3"
    },
    "language_info": {
      "name": "python"
    }
  },
  "cells": [
    {
      "cell_type": "code",
      "execution_count": 1,
      "metadata": {
        "colab": {
          "base_uri": "https://localhost:8080/"
        },
        "id": "MqVf_Hbnkk4F",
        "outputId": "62288e59-d842-4858-a0aa-ced16ed942bb"
      },
      "outputs": [
        {
          "output_type": "stream",
          "name": "stdout",
          "text": [
            "Epoch 0, Loss: 0.3118\n",
            "Epoch 100, Loss: 0.2068\n",
            "Epoch 200, Loss: 0.1525\n",
            "Epoch 300, Loss: 0.0868\n",
            "Epoch 400, Loss: 0.0449\n",
            "Epoch 500, Loss: 0.0259\n",
            "Epoch 600, Loss: 0.0169\n",
            "Epoch 700, Loss: 0.0120\n",
            "Epoch 800, Loss: 0.0092\n",
            "Epoch 900, Loss: 0.0073\n",
            "\n",
            "Final predictions:\n",
            "Input: [0 0], Predicted: [[0.047]]\n",
            "Input: [0 1], Predicted: [[0.928]]\n",
            "Input: [1 0], Predicted: [[0.917]]\n",
            "Input: [1 1], Predicted: [[0.098]]\n"
          ]
        }
      ],
      "source": [
        "import numpy as np\n",
        "\n",
        "# Activation functions and their derivatives\n",
        "def sigmoid(x):\n",
        "    return 1 / (1 + np.exp(-x))\n",
        "\n",
        "def sigmoid_derivative(x):\n",
        "    return x * (1 - x)\n",
        "\n",
        "# Loss function (Mean Squared Error)\n",
        "def mean_squared_error(y_true, y_pred):\n",
        "    return np.mean((y_true - y_pred) ** 2)\n",
        "\n",
        "# Neural Network class\n",
        "class NeuralNetwork:\n",
        "    def __init__(self, input_size, hidden_size, output_size, learning_rate=0.1):\n",
        "        # Initialize weights and biases\n",
        "        self.weights_input_hidden = np.random.randn(input_size, hidden_size)\n",
        "        self.bias_hidden = np.zeros((1, hidden_size))\n",
        "\n",
        "        self.weights_hidden_output = np.random.randn(hidden_size, output_size)\n",
        "        self.bias_output = np.zeros((1, output_size))\n",
        "\n",
        "        self.learning_rate = learning_rate\n",
        "\n",
        "    def forward(self, X):\n",
        "        # Input to hidden\n",
        "        self.hidden_input = np.dot(X, self.weights_input_hidden) + self.bias_hidden\n",
        "        self.hidden_output = sigmoid(self.hidden_input)\n",
        "\n",
        "        # Hidden to output\n",
        "        self.final_input = np.dot(self.hidden_output, self.weights_hidden_output) + self.bias_output\n",
        "        self.final_output = sigmoid(self.final_input)\n",
        "\n",
        "        return self.final_output\n",
        "\n",
        "    def backward(self, X, y, output):\n",
        "        # Calculate error\n",
        "        error = y - output\n",
        "\n",
        "        # Output layer gradients\n",
        "        d_output = error * sigmoid_derivative(output)\n",
        "\n",
        "        # Hidden layer error and gradients\n",
        "        error_hidden = d_output.dot(self.weights_hidden_output.T)\n",
        "        d_hidden = error_hidden * sigmoid_derivative(self.hidden_output)\n",
        "\n",
        "        # Update weights and biases\n",
        "        self.weights_hidden_output += self.hidden_output.T.dot(d_output) * self.learning_rate\n",
        "        self.bias_output += np.sum(d_output, axis=0, keepdims=True) * self.learning_rate\n",
        "\n",
        "        self.weights_input_hidden += X.T.dot(d_hidden) * self.learning_rate\n",
        "        self.bias_hidden += np.sum(d_hidden, axis=0, keepdims=True) * self.learning_rate\n",
        "\n",
        "    def train(self, X, y, epochs=1000):\n",
        "        for epoch in range(epochs):\n",
        "            output = self.forward(X)\n",
        "            self.backward(X, y, output)\n",
        "\n",
        "            if epoch % 100 == 0:\n",
        "                loss = mean_squared_error(y, output)\n",
        "                print(f\"Epoch {epoch}, Loss: {loss:.4f}\")\n",
        "\n",
        "# Example dataset: XOR problem\n",
        "X = np.array([[0,0],\n",
        "              [0,1],\n",
        "              [1,0],\n",
        "              [1,1]])\n",
        "\n",
        "y = np.array([[0],\n",
        "              [1],\n",
        "              [1],\n",
        "              [0]])\n",
        "\n",
        "# Create and train the network\n",
        "nn = NeuralNetwork(input_size=2, hidden_size=4, output_size=1, learning_rate=0.5)\n",
        "nn.train(X, y, epochs=1000)\n",
        "\n",
        "# Test\n",
        "print(\"\\nFinal predictions:\")\n",
        "for sample in X:\n",
        "    output = nn.forward(sample.reshape(1, -1))\n",
        "    print(f\"Input: {sample}, Predicted: {output.round(3)}\")\n"
      ]
    }
  ]
}